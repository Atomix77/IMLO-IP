{
  "cells": [
    {
      "cell_type": "markdown",
      "metadata": {
        "colab_type": "text",
        "id": "view-in-github"
      },
      "source": [
        "<a href=\"https://colab.research.google.com/github/Atomix77/IMLO-IP/blob/main/IMLO_Project.ipynb\" target=\"_parent\"><img src=\"https://colab.research.google.com/assets/colab-badge.svg\" alt=\"Open In Colab\"/></a>"
      ]
    },
    {
      "cell_type": "markdown",
      "metadata": {
        "id": "QNZzt3qRxj22"
      },
      "source": [
        "# Load Data\n",
        "\n"
      ]
    },
    {
      "cell_type": "code",
      "execution_count": 1,
      "metadata": {
        "id": "rPqbMcduQaTJ"
      },
      "outputs": [
        {
          "name": "stderr",
          "output_type": "stream",
          "text": [
            "c:\\Users\\tomha\\AppData\\Local\\Programs\\Python\\Python310\\lib\\site-packages\\tqdm\\auto.py:21: TqdmWarning: IProgress not found. Please update jupyter and ipywidgets. See https://ipywidgets.readthedocs.io/en/stable/user_install.html\n",
            "  from .autonotebook import tqdm as notebook_tqdm\n",
            "c:\\Users\\tomha\\AppData\\Local\\Programs\\Python\\Python310\\lib\\site-packages\\torchvision\\io\\image.py:13: UserWarning: Failed to load image Python extension: Could not find module 'C:\\Users\\tomha\\AppData\\Local\\Programs\\Python\\Python310\\Lib\\site-packages\\torchvision\\image.pyd' (or one of its dependencies). Try using the full path with constructor syntax.\n",
            "  warn(f\"Failed to load image Python extension: {e}\")\n"
          ]
        },
        {
          "name": "stdout",
          "output_type": "stream",
          "text": [
            "Downloading https://thor.robots.ox.ac.uk/datasets/flowers-102/102flowers.tgz to datasets\\flowers-102\\102flowers.tgz\n"
          ]
        },
        {
          "name": "stderr",
          "output_type": "stream",
          "text": [
            "100%|██████████| 344862509/344862509 [00:13<00:00, 25394181.24it/s]\n"
          ]
        },
        {
          "name": "stdout",
          "output_type": "stream",
          "text": [
            "Extracting datasets\\flowers-102\\102flowers.tgz to datasets\\flowers-102\n",
            "Downloading https://thor.robots.ox.ac.uk/datasets/flowers-102/imagelabels.mat to datasets\\flowers-102\\imagelabels.mat\n"
          ]
        },
        {
          "name": "stderr",
          "output_type": "stream",
          "text": [
            "100%|██████████| 502/502 [00:00<00:00, 501558.03it/s]\n"
          ]
        },
        {
          "name": "stdout",
          "output_type": "stream",
          "text": [
            "Downloading https://thor.robots.ox.ac.uk/datasets/flowers-102/setid.mat to datasets\\flowers-102\\setid.mat\n"
          ]
        },
        {
          "name": "stderr",
          "output_type": "stream",
          "text": [
            "100%|██████████| 14989/14989 [00:00<00:00, 14968672.06it/s]\n"
          ]
        }
      ],
      "source": [
        "import torch\n",
        "from torch.utils.data import Dataset\n",
        "from torchvision import datasets\n",
        "from torchvision.transforms import ToTensor, Lambda\n",
        "from torchvision import transforms\n",
        "from torch.utils.data import DataLoader\n",
        "import torch.nn as nn\n",
        "import torchvision.models as models\n",
        "\n",
        "mean=[0.485, 0.456, 0.406]\n",
        "std=[0.229, 0.224, 0.225]\n",
        "\n",
        "trainingTransform = transforms.Compose([\n",
        "      transforms.Resize((224, 224)),\n",
        "      transforms.ToTensor(),\n",
        "      transforms.RandomHorizontalFlip(),\n",
        "      transforms.RandomRotation(20),\n",
        "      transforms.Normalize(torch.Tensor(mean), torch.Tensor(std)),])\n",
        "\n",
        "testTransform = transforms.Compose([\n",
        "        transforms.Resize((224, 224)),\n",
        "        transforms.ToTensor(),\n",
        "        transforms.Normalize(torch.Tensor(mean), torch.Tensor(std)),])\n",
        "\n",
        "trainingData = datasets.Flowers102(\n",
        "    root = \"./datasets\",\n",
        "    split = \"train\",\n",
        "    transform = trainingTransform,\n",
        "    # target_transform = Lambda(lambda y: torch.zeros(1000, dtype=torch.float).scatter_(0, torch.tensor(y), value=1)),\n",
        "    download = True)\n",
        "\n",
        "validationData = datasets.Flowers102(\n",
        "    root = \"./datasets\",\n",
        "    split = \"val\",\n",
        "    transform = testTransform,\n",
        "    # target_transform = Lambda(lambda y: torch.zeros(1000, dtype=torch.float).scatter_(0, torch.tensor(y), value=1)),\n",
        "    download = True)\n",
        "\n",
        "testData = datasets.Flowers102(\n",
        "    root = \"./datasets\",\n",
        "    split = \"test\",\n",
        "    transform = testTransform,\n",
        "    # target_transform = Lambda(lambda y: torch.zeros(1000, dtype=torch.float).scatter_(0, torch.tensor(y), value=1)),\n",
        "    download = True)"
      ]
    },
    {
      "cell_type": "markdown",
      "metadata": {
        "id": "WJvmzTaHdnlp"
      },
      "source": [
        "# Dataloaders"
      ]
    },
    {
      "cell_type": "code",
      "execution_count": 2,
      "metadata": {
        "id": "lJxe_JHFdp5v"
      },
      "outputs": [],
      "source": [
        "batchSize = 64\n",
        "\n",
        "trainingDataloader = DataLoader(trainingData, batchSize, shuffle = True)\n",
        "testDataloader = DataLoader(testData, batchSize)"
      ]
    },
    {
      "cell_type": "markdown",
      "metadata": {
        "id": "10tVZxhv6guP"
      },
      "source": [
        "# Get device"
      ]
    },
    {
      "cell_type": "code",
      "execution_count": 14,
      "metadata": {
        "colab": {
          "base_uri": "https://localhost:8080/"
        },
        "id": "tOZbLdGEsfV2",
        "outputId": "f2f6f56c-12bb-47eb-e8bc-3e8c298ef4bc"
      },
      "outputs": [
        {
          "name": "stdout",
          "output_type": "stream",
          "text": [
            "Using cpu device\n"
          ]
        }
      ],
      "source": [
        "device = (\n",
        "    \"cuda\"\n",
        "    if torch.cuda.is_available()\n",
        "    else \"mps\"\n",
        "    if torch.backends.mps.is_available()\n",
        "    else \"cpu\"\n",
        ")\n",
        "print(f\"Using {device} device\")"
      ]
    },
    {
      "cell_type": "markdown",
      "metadata": {
        "id": "Vn49i-601HQm"
      },
      "source": [
        "# Create Aritecture"
      ]
    },
    {
      "cell_type": "code",
      "execution_count": 4,
      "metadata": {
        "id": "DEtkf2DSxjNd"
      },
      "outputs": [],
      "source": [
        "class NeuralNetwork(nn.Module):\n",
        "  def __init__(self, classAmount):\n",
        "    super(NeuralNetwork, self).__init__()\n",
        "    self.convStack =  nn.Sequential(\n",
        "        nn.Conv2d(in_channels = 3, out_channels = 32, kernel_size = 3, padding = 1),\n",
        "        nn.ReLU(),\n",
        "        nn.MaxPool2d(kernel_size = 2, stride = 2),\n",
        "        nn.Conv2d(in_channels = 32, out_channels = 64, kernel_size = 3, padding = 1),\n",
        "        nn.ReLU(),\n",
        "        nn.MaxPool2d(kernel_size = 2, stride = 2),\n",
        "        nn.Conv2d(in_channels = 64, out_channels = 128, kernel_size = 3, padding = 1),\n",
        "        nn.ReLU(),\n",
        "        nn.MaxPool2d(kernel_size = 2, stride = 2)\n",
        "    )\n",
        "    self.classifier = nn.Linear(128 * 28 * 28, classAmount)\n",
        "\n",
        "  def forward(self, x):\n",
        "    x = self.convStack(x)\n",
        "    x = torch.flatten(x, 1)\n",
        "    x = self.classifier(x)\n",
        "    return x\n",
        "\n",
        "model = NeuralNetwork(102).to(device)"
      ]
    },
    {
      "cell_type": "markdown",
      "metadata": {
        "id": "u1w_yEPkDiOo"
      },
      "source": [
        "# Training"
      ]
    },
    {
      "cell_type": "code",
      "execution_count": 5,
      "metadata": {
        "id": "uMAaXK3bENaq"
      },
      "outputs": [],
      "source": [
        "def trainingLoop(dataloader, model, lossFunction, optimizer):\n",
        "  size = len(dataloader.dataset)\n",
        "  model.train()\n",
        "\n",
        "  for batch, (X, Y) in enumerate(dataloader):\n",
        "    pred = model(X)\n",
        "    loss = lossFunction(pred, Y)\n",
        "\n",
        "    loss.backward()\n",
        "    optimizer.step()\n",
        "    optimizer.zero_grad()\n",
        "\n",
        "    if batch % 100 == 0:\n",
        "      loss, current = loss.item(), batch * batchSize + len(X)\n",
        "      print(f\"loss: {loss:>7f}  [{current:>5d}/{size:>5d}]\")"
      ]
    },
    {
      "cell_type": "code",
      "execution_count": 6,
      "metadata": {
        "id": "s1wDws8xJOfQ"
      },
      "outputs": [],
      "source": [
        "def testingLoop(dataloader, model, lossFunction):\n",
        "  model.eval()\n",
        "  size = len(dataloader.dataset)\n",
        "  numBatches = len(dataloader)\n",
        "  testLoss, correct = 0, 0\n",
        "\n",
        "  with torch.no_grad():\n",
        "    for X, y in dataloader:\n",
        "      pred = model(X)\n",
        "      testLoss += lossFunction(pred, y).item()\n",
        "      correct += (pred.argmax(1) == y).type(torch.float).sum().item()\n",
        "\n",
        "    testLoss /= numBatches\n",
        "    correct /= size\n",
        "    print(f\"Test Error: \\n Accuracy: {(100*correct):>0.1f}%, Avg loss: {testLoss:>8f} \\n\")"
      ]
    },
    {
      "cell_type": "code",
      "execution_count": 7,
      "metadata": {
        "colab": {
          "base_uri": "https://localhost:8080/",
          "height": 495
        },
        "id": "-8n5NAvIJUuO",
        "outputId": "50d3d6ee-ddaa-4bba-f3e4-d5f5448cb12b"
      },
      "outputs": [
        {
          "name": "stdout",
          "output_type": "stream",
          "text": [
            "Epoch 1\n",
            "-------------------------------\n"
          ]
        },
        {
          "name": "stdout",
          "output_type": "stream",
          "text": [
            "loss: 4.625613  [   64/ 1020]\n",
            "Test Error: \n",
            " Accuracy: 1.1%, Avg loss: 4.617657 \n",
            "\n",
            "Epoch 2\n",
            "-------------------------------\n",
            "loss: 4.610216  [   64/ 1020]\n",
            "Test Error: \n",
            " Accuracy: 2.0%, Avg loss: 4.604562 \n",
            "\n",
            "Epoch 3\n",
            "-------------------------------\n",
            "loss: 4.603364  [   64/ 1020]\n",
            "Test Error: \n",
            " Accuracy: 2.7%, Avg loss: 4.593190 \n",
            "\n",
            "Epoch 4\n",
            "-------------------------------\n",
            "loss: 4.589000  [   64/ 1020]\n",
            "Test Error: \n",
            " Accuracy: 2.7%, Avg loss: 4.581672 \n",
            "\n",
            "Epoch 5\n",
            "-------------------------------\n",
            "loss: 4.570213  [   64/ 1020]\n",
            "Test Error: \n",
            " Accuracy: 4.0%, Avg loss: 4.569005 \n",
            "\n",
            "Finished\n"
          ]
        }
      ],
      "source": [
        "learningRate = 1e-3\n",
        "batchSize = 64\n",
        "epochs = 5\n",
        "\n",
        "lossFunction = nn.CrossEntropyLoss()\n",
        "optimizer = torch.optim.SGD(model.parameters(), lr=learningRate)\n",
        "\n",
        "for i in range(epochs):\n",
        "  print(f\"Epoch {i+1}\\n-------------------------------\")\n",
        "  trainingLoop(trainingDataloader, model, lossFunction, optimizer)\n",
        "  testingLoop(testDataloader, model, lossFunction)\n",
        "print(\"Finished\")"
      ]
    },
    {
      "cell_type": "markdown",
      "metadata": {
        "id": "Z-NN5lbFJbrK"
      },
      "source": [
        "# Saving the model"
      ]
    },
    {
      "cell_type": "code",
      "execution_count": 8,
      "metadata": {
        "id": "z6w9-UT1JYgG"
      },
      "outputs": [],
      "source": [
        "# model = models.vgg16(weights='IMAGENET1K_V1')\n",
        "# torch.save(model, 'model.pth')"
      ]
    },
    {
      "cell_type": "markdown",
      "metadata": {
        "id": "Ed-V6vOoJtPw"
      },
      "source": [
        "# Loading the model"
      ]
    },
    {
      "cell_type": "code",
      "execution_count": 9,
      "metadata": {
        "id": "RUwsJFciJrm_"
      },
      "outputs": [],
      "source": [
        "# model = models.vgg16()\n",
        "# model.load_state_dict(torch.load('model.pth'))\n",
        "# model.eval()"
      ]
    }
  ],
  "metadata": {
    "colab": {
      "authorship_tag": "ABX9TyP5pQ4pqThi+Psu2q1m/Fu+",
      "include_colab_link": true,
      "provenance": []
    },
    "kernelspec": {
      "display_name": "Python 3",
      "name": "python3"
    },
    "language_info": {
      "codemirror_mode": {
        "name": "ipython",
        "version": 3
      },
      "file_extension": ".py",
      "mimetype": "text/x-python",
      "name": "python",
      "nbconvert_exporter": "python",
      "pygments_lexer": "ipython3",
      "version": "3.10.6"
    }
  },
  "nbformat": 4,
  "nbformat_minor": 0
}
