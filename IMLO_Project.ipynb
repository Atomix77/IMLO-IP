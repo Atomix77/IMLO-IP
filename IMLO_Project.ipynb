{
  "cells": [
    {
      "cell_type": "markdown",
      "metadata": {
        "colab_type": "text",
        "id": "view-in-github"
      },
      "source": [
        "<a href=\"https://colab.research.google.com/github/Atomix77/IMLO-IP/blob/main/IMLO_Project.ipynb\" target=\"_parent\"><img src=\"https://colab.research.google.com/assets/colab-badge.svg\" alt=\"Open In Colab\"/></a>"
      ]
    },
    {
      "cell_type": "markdown",
      "metadata": {
        "id": "QNZzt3qRxj22"
      },
      "source": [
        "# Load Data\n",
        "\n"
      ]
    },
    {
      "cell_type": "code",
      "execution_count": 46,
      "metadata": {
        "id": "rPqbMcduQaTJ"
      },
      "outputs": [],
      "source": [
        "import torch\n",
        "from torch.utils.data import Dataset\n",
        "from torchvision import datasets\n",
        "from torchvision.transforms import ToTensor, Lambda\n",
        "from torchvision import transforms\n",
        "from torch.utils.data import DataLoader\n",
        "import torch.nn as nn\n",
        "import torchvision.models as models\n",
        "\n",
        "mean=[0.485, 0.456, 0.406]\n",
        "std=[0.229, 0.224, 0.225]\n",
        "\n",
        "trainingTransform = transforms.Compose([\n",
        "    transforms.Resize((224, 224)),\n",
        "    transforms.RandomHorizontalFlip(),\n",
        "    transforms.RandomRotation(20),\n",
        "    transforms.ColorJitter(brightness=0.1, contrast=0.1, saturation=0.1, hue=0.1),\n",
        "    transforms.ToTensor(),\n",
        "    transforms.Normalize(mean, std),])\n",
        "\n",
        "validationTransform = transforms.Compose([ \n",
        "    transforms.Resize((224, 224)),\n",
        "    transforms.ToTensor(),\n",
        "    transforms.Normalize(mean, std),\n",
        "])\n",
        "\n",
        "testTransform = transforms.Compose([\n",
        "    transforms.Resize((224, 224)),\n",
        "    transforms.ToTensor(),\n",
        "    transforms.Normalize(mean, std),])\n",
        "\n",
        "# def targetTransform(y):\n",
        "#     return nn.functional.one_hot(torch.tensor(y), 102)\n",
        "\n",
        "trainingData = datasets.Flowers102(\n",
        "    root = \"./datasets\",\n",
        "    split = \"train\",\n",
        "    transform = trainingTransform,\n",
        "    # target_transform = targetTransform,\n",
        "    download = True)\n",
        "\n",
        "validationData = datasets.Flowers102(\n",
        "    root = \"./datasets\",\n",
        "    split = \"val\",\n",
        "    transform = validationTransform,\n",
        "    # target_transform = targetTransform,\n",
        "    download = True)\n",
        "\n",
        "testData = datasets.Flowers102(\n",
        "    root = \"./datasets\",\n",
        "    split = \"test\",\n",
        "    transform = testTransform,\n",
        "    # target_transform = targetTransform,\n",
        "    download = True)"
      ]
    },
    {
      "cell_type": "markdown",
      "metadata": {
        "id": "WJvmzTaHdnlp"
      },
      "source": [
        "# Dataloaders"
      ]
    },
    {
      "cell_type": "code",
      "execution_count": 47,
      "metadata": {
        "id": "lJxe_JHFdp5v"
      },
      "outputs": [],
      "source": [
        "batchSize = 64\n",
        "\n",
        "trainingDataloader = DataLoader(trainingData, batchSize, shuffle = True, num_workers = 6)\n",
        "validationDataloader = DataLoader(validationData, batchSize, shuffle = False, num_workers = 6)\n",
        "testDataloader = DataLoader(testData, batchSize, shuffle = False, num_workers = 6)"
      ]
    },
    {
      "cell_type": "markdown",
      "metadata": {
        "id": "10tVZxhv6guP"
      },
      "source": [
        "# Get device"
      ]
    },
    {
      "cell_type": "code",
      "execution_count": 48,
      "metadata": {
        "colab": {
          "base_uri": "https://localhost:8080/"
        },
        "id": "tOZbLdGEsfV2",
        "outputId": "f2f6f56c-12bb-47eb-e8bc-3e8c298ef4bc"
      },
      "outputs": [
        {
          "name": "stdout",
          "output_type": "stream",
          "text": [
            "Using cuda device\n"
          ]
        }
      ],
      "source": [
        "device = (\n",
        "    \"cuda\"\n",
        "    if torch.cuda.is_available()\n",
        "    else \"mps\"\n",
        "    if torch.backends.mps.is_available()\n",
        "    else \"cpu\"\n",
        ")\n",
        "print(f\"Using {device} device\")"
      ]
    },
    {
      "cell_type": "markdown",
      "metadata": {
        "id": "Vn49i-601HQm"
      },
      "source": [
        "# Create Aritecture"
      ]
    },
    {
      "cell_type": "code",
      "execution_count": 49,
      "metadata": {
        "id": "DEtkf2DSxjNd"
      },
      "outputs": [],
      "source": [
        "class NeuralNetwork(nn.Module):\n",
        "    def __init__(self, classAmount):\n",
        "        super(NeuralNetwork, self).__init__()\n",
        "        self.convStack =  nn.Sequential(\n",
        "            nn.Conv2d(in_channels = 3, out_channels = 32, kernel_size = 3, padding = 1),\n",
        "            nn.BatchNorm2d(32),\n",
        "            nn.ReLU(),\n",
        "            nn.MaxPool2d(kernel_size = 2, stride = 2),\n",
        "            nn.Conv2d(in_channels = 32, out_channels = 64, kernel_size = 3, padding = 1),\n",
        "            nn.BatchNorm2d(64),\n",
        "            nn.ReLU(),\n",
        "            nn.MaxPool2d(kernel_size = 2, stride = 2),\n",
        "            nn.Conv2d(in_channels = 64, out_channels = 128, kernel_size = 3, padding = 1),\n",
        "            nn.BatchNorm2d(128),\n",
        "            nn.ReLU(),\n",
        "            nn.MaxPool2d(kernel_size = 2, stride = 2),\n",
        "            nn.Conv2d(in_channels = 128, out_channels = 256, kernel_size = 3, padding = 1),\n",
        "            nn.BatchNorm2d(256),\n",
        "            nn.ReLU(),\n",
        "            nn.MaxPool2d(kernel_size = 2, stride = 2),\n",
        "            nn.Conv2d(in_channels = 256, out_channels = 512, kernel_size = 3, padding = 1),\n",
        "            nn.BatchNorm2d(512),\n",
        "            nn.ReLU(),\n",
        "            nn.MaxPool2d(kernel_size = 2, stride = 2),\n",
        "            nn.Dropout(0.5)\n",
        "        )\n",
        "        self.classifier = nn.Sequential(\n",
        "        nn.Linear(25088, 2048),\n",
        "        nn.ReLU(),\n",
        "        nn.Dropout(0.5),\n",
        "        nn.Linear(2048, 1024),\n",
        "        nn.ReLU(),\n",
        "        nn.Dropout(0.5),\n",
        "        nn.Linear(1024, classAmount)\n",
        "        )\n",
        "    \n",
        "\n",
        "    def forward(self, x):\n",
        "        x = self.convStack(x)\n",
        "        x = torch.flatten(x, 1)\n",
        "        x = self.classifier(x)\n",
        "        return x\n",
        "\n",
        "model = NeuralNetwork(102).to(device)"
      ]
    },
    {
      "cell_type": "markdown",
      "metadata": {
        "id": "u1w_yEPkDiOo"
      },
      "source": [
        "# Train Model"
      ]
    },
    {
      "cell_type": "code",
      "execution_count": 50,
      "metadata": {
        "id": "s1wDws8xJOfQ"
      },
      "outputs": [],
      "source": [
        "losses = []\n",
        "def trainModel(dataloader, model, lossFunction, optimizer):\n",
        "  model.train()\n",
        "  currentLoss = 0.0\n",
        "  correct = 0\n",
        "  total = 0\n",
        "  testLoss = 0\n",
        "  \n",
        "  for X, y in dataloader:\n",
        "    X, y = X.to(device), y.to(device)\n",
        "    optimizer.zero_grad()\n",
        "    \n",
        "    pred = model(X)\n",
        "    loss = lossFunction(pred, y)\n",
        "\n",
        "    loss.backward()\n",
        "    optimizer.step()\n",
        "\n",
        "    currentLoss += loss.item()\n",
        "\n",
        "    total += y.size(0)\n",
        "    testLoss += lossFunction(pred, y).item()\n",
        "    correct += (pred.argmax(1) == y).type(torch.float).sum().item()\n",
        "  \n",
        "  testLoss = testLoss/total\n",
        "  correct = correct/total\n",
        "\n",
        "  losses.append(testLoss)\n",
        "  \n",
        "  print(f'Training: Accuracy {(100*correct):>0.1f}%, Loss: {currentLoss / len(dataloader):.5f}, Test Losss: {testLoss:.5f}')"
      ]
    },
    {
      "cell_type": "markdown",
      "metadata": {},
      "source": [
        "# Validate Model"
      ]
    },
    {
      "cell_type": "code",
      "execution_count": 51,
      "metadata": {},
      "outputs": [],
      "source": [
        "def validateModel(dataloader, model, lossFunction):\n",
        "    model.eval()\n",
        "    total = 0\n",
        "    correct = 0\n",
        "    testLoss = 0\n",
        "\n",
        "    with torch.no_grad():\n",
        "        for X, y in dataloader:\n",
        "            X, y = X.to(device), y.to(device)\n",
        "            pred = model(X)\n",
        "            total += y.size(0)\n",
        "            testLoss += lossFunction(pred, y).item()\n",
        "            correct += (pred.argmax(1) == y).type(torch.float).sum().item()\n",
        "\n",
        "    testLoss = testLoss/total\n",
        "    correct = (correct/total) * 100\n",
        "    print(f\"Validation: Accuracy: {(correct):>0.1f}%, Avg loss: {testLoss:>8f} \\n\")\n",
        "    return testLoss, correct"
      ]
    },
    {
      "cell_type": "markdown",
      "metadata": {},
      "source": [
        "# Test Model"
      ]
    },
    {
      "cell_type": "code",
      "execution_count": 52,
      "metadata": {},
      "outputs": [],
      "source": [
        "def testModel(dataloader, model, lossFunction):\n",
        "    model.eval()\n",
        "    total = 0\n",
        "    correct = 0\n",
        "    testLoss = 0\n",
        "\n",
        "    with torch.no_grad():\n",
        "        for X, y in dataloader:\n",
        "            X, y = X.to(device), y.to(device)\n",
        "            pred = model(X)\n",
        "            total += y.size(0)\n",
        "            testLoss += lossFunction(pred, y).item()\n",
        "            correct += (pred.argmax(1) == y).type(torch.float).sum().item()\n",
        "\n",
        "    testLoss = testLoss/total\n",
        "    correct = (correct/total) * 100\n",
        "    print(f\"Testing: Accuracy: {(correct):>0.1f}%, Avg loss: {testLoss:>8f} \\n\")\n",
        "    return testLoss, correct"
      ]
    },
    {
      "cell_type": "markdown",
      "metadata": {},
      "source": [
        "# Model Evaluation"
      ]
    },
    {
      "cell_type": "code",
      "execution_count": 53,
      "metadata": {
        "colab": {
          "base_uri": "https://localhost:8080/",
          "height": 495
        },
        "id": "-8n5NAvIJUuO",
        "outputId": "50d3d6ee-ddaa-4bba-f3e4-d5f5448cb12b"
      },
      "outputs": [
        {
          "name": "stdout",
          "output_type": "stream",
          "text": [
            "Epoch 1:\n",
            "Training: Accuracy 1.3%, Loss: 6.85236, Test Losss: 0.10749\n",
            "Validation: Accuracy: 2.2%, Avg loss: 0.071629 \n",
            "\n",
            "Epoch 2:\n",
            "Training: Accuracy 1.0%, Loss: 4.64782, Test Losss: 0.07291\n",
            "Validation: Accuracy: 3.2%, Avg loss: 0.068714 \n",
            "\n",
            "Epoch 3:\n",
            "Training: Accuracy 2.7%, Loss: 4.44872, Test Losss: 0.06978\n",
            "Validation: Accuracy: 2.7%, Avg loss: 0.066075 \n",
            "\n",
            "Epoch 4:\n"
          ]
        }
      ],
      "source": [
        "learningRate = 0.001\n",
        "batchSize = 64\n",
        "epochs = 150\n",
        "bestValLoss = float('inf')\n",
        "bestValAccuracy = 0.0\n",
        "bestEpoch = 0\n",
        "prevLearningRate = learningRate\n",
        "\n",
        "lossFunction = nn.CrossEntropyLoss()\n",
        "optimizer = torch.optim.Adam(model.parameters(), lr=learningRate)\n",
        "adjustibleLearningRate = torch.optim.lr_scheduler.ReduceLROnPlateau(optimizer, mode='min', factor=0.1, patience=5)\n",
        "\n",
        "for epoch in range(epochs):\n",
        "    print(f'Epoch {epoch+1}:')\n",
        "    trainModel(trainingDataloader, model, lossFunction, optimizer)\n",
        "    valLoss, valAccuracy = validateModel(validationDataloader, model, lossFunction)\n",
        "    adjustibleLearningRate.step(valLoss)\n",
        "    currentLearningRate = optimizer.param_groups[0][\"lr\"]\n",
        "    \n",
        "    if currentLearningRate != prevLearningRate:\n",
        "        print(f'Learning rate changed from {prevLearningRate} to {currentLearningRate}')\n",
        "        prevLearningRate = currentLearningRate\n",
        "\n",
        "    if (valLoss < bestValLoss):\n",
        "        bestValLoss = valLoss\n",
        "        bestValAccuracy = valAccuracy\n",
        "        bestEpoch = epoch+1\n",
        "\n",
        "testModel(testDataloader, model, lossFunction)\n",
        "print(f'Best Accuracy: {bestValAccuracy}. Best Loss: {bestValLoss}. Best Epoch: {bestEpoch}')\n",
        "print(\"Finished\")"
      ]
    },
    {
      "cell_type": "markdown",
      "metadata": {},
      "source": [
        "1st: Accuracy: 47.2%, Avg Loss: 0.038937\n",
        "#\n",
        "2nd: Accuracy: 46.8%, Avg Loss: 0.040024\n",
        "#\n",
        "3rd:  Accuracy: 46.4%, Avg Loss: 0.040268 "
      ]
    },
    {
      "cell_type": "markdown",
      "metadata": {},
      "source": [
        "# Graph"
      ]
    },
    {
      "cell_type": "code",
      "execution_count": null,
      "metadata": {},
      "outputs": [
        {
          "data": {
            "image/png": "[encoded data removed]",
            "text/plain": [
              "<Figure size 640x480 with 1 Axes>"
            ]
          },
          "metadata": {},
          "output_type": "display_data"
        }
      ],
      "source": [
        "import matplotlib.pyplot as plt\n",
        "\n",
        "# Plot the loss values\n",
        "plt.plot(range(epochs), losses)\n",
        "plt.xlabel('Epoch')\n",
        "plt.ylabel('Loss')\n",
        "plt.title('Loss per Epoch')\n",
        "plt.show()\n"
      ]
    },
    {
      "cell_type": "markdown",
      "metadata": {
        "id": "Z-NN5lbFJbrK"
      },
      "source": [
        "# Saving the model"
      ]
    },
    {
      "cell_type": "code",
      "execution_count": null,
      "metadata": {
        "id": "z6w9-UT1JYgG"
      },
      "outputs": [],
      "source": [
        "# model = models.vgg16(weights='IMAGENET1K_V1')\n",
        "# torch.save(model, 'model.pth')"
      ]
    },
    {
      "cell_type": "markdown",
      "metadata": {
        "id": "Ed-V6vOoJtPw"
      },
      "source": [
        "# Loading the model"
      ]
    },
    {
      "cell_type": "code",
      "execution_count": null,
      "metadata": {
        "id": "RUwsJFciJrm_"
      },
      "outputs": [],
      "source": [
        "# model = models.vgg16()\n",
        "# model.load_state_dict(torch.load('model.pth'))\n",
        "# model.eval()"
      ]
    }
  ],
  "metadata": {
    "colab": {
      "authorship_tag": "ABX9TyP5pQ4pqThi+Psu2q1m/Fu+",
      "include_colab_link": true,
      "provenance": []
    },
    "kernelspec": {
      "display_name": "Python 3",
      "name": "python3"
    },
    "language_info": {
      "codemirror_mode": {
        "name": "ipython",
        "version": 3
      },
      "file_extension": ".py",
      "mimetype": "text/x-python",
      "name": "python",
      "nbconvert_exporter": "python",
      "pygments_lexer": "ipython3",
      "version": "3.10.6"
    }
  },
  "nbformat": 4,
  "nbformat_minor": 0
}
