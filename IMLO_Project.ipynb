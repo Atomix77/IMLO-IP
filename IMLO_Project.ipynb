{
  "cells": [
    {
      "cell_type": "markdown",
      "metadata": {
        "colab_type": "text",
        "id": "view-in-github"
      },
      "source": [
        "<a href=\"https://colab.research.google.com/github/Atomix77/IMLO-IP/blob/main/IMLO_Project.ipynb\" target=\"_parent\"><img src=\"https://colab.research.google.com/assets/colab-badge.svg\" alt=\"Open In Colab\"/></a>"
      ]
    },
    {
      "cell_type": "code",
      "execution_count": 51,
      "metadata": {},
      "outputs": [
        {
          "name": "stdout",
          "output_type": "stream",
          "text": [
            "Is CUDA supported by this system? True\n",
            "CUDA version: 11.8\n"
          ]
        }
      ],
      "source": [
        "import torch\n",
        "print(f\"Is CUDA supported by this system? {torch.cuda.is_available()}\")\n",
        "print(f\"CUDA version: {torch.version.cuda}\")"
      ]
    },
    {
      "cell_type": "markdown",
      "metadata": {
        "id": "QNZzt3qRxj22"
      },
      "source": [
        "# Load Data\n",
        "\n"
      ]
    },
    {
      "cell_type": "code",
      "execution_count": 52,
      "metadata": {
        "id": "rPqbMcduQaTJ"
      },
      "outputs": [],
      "source": [
        "import torch\n",
        "from torch.utils.data import Dataset\n",
        "from torchvision import datasets\n",
        "from torchvision.transforms import ToTensor, Lambda\n",
        "from torchvision import transforms\n",
        "from torch.utils.data import DataLoader\n",
        "import torch.nn as nn\n",
        "import torchvision.models as models\n",
        "\n",
        "mean=[0.485, 0.456, 0.406]\n",
        "std=[0.229, 0.224, 0.225]\n",
        "\n",
        "trainingTransform = transforms.Compose([\n",
        "      transforms.Resize((224, 224)),\n",
        "      transforms.ToTensor(),\n",
        "      transforms.RandomHorizontalFlip(),\n",
        "      transforms.RandomRotation(20),\n",
        "      transforms.Normalize(torch.Tensor(mean), torch.Tensor(std)),])\n",
        "\n",
        "testTransform = transforms.Compose([\n",
        "        transforms.Resize((224, 224)),\n",
        "        transforms.ToTensor(),\n",
        "        transforms.Normalize(torch.Tensor(mean), torch.Tensor(std)),])\n",
        "\n",
        "trainingData = datasets.Flowers102(\n",
        "    root = \"./datasets\",\n",
        "    split = \"train\",\n",
        "    transform = trainingTransform,\n",
        "    # target_transform = Lambda(lambda y: torch.zeros(1000, dtype=torch.float).scatter_(0, torch.tensor(y), value=1)),\n",
        "    download = True)\n",
        "\n",
        "validationData = datasets.Flowers102(\n",
        "    root = \"./datasets\",\n",
        "    split = \"val\",\n",
        "    transform = testTransform,\n",
        "    # target_transform = Lambda(lambda y: torch.zeros(1000, dtype=torch.float).scatter_(0, torch.tensor(y), value=1)),\n",
        "    download = True)\n",
        "\n",
        "testData = datasets.Flowers102(\n",
        "    root = \"./datasets\",\n",
        "    split = \"test\",\n",
        "    transform = testTransform,\n",
        "    # target_transform = Lambda(lambda y: torch.zeros(1000, dtype=torch.float).scatter_(0, torch.tensor(y), value=1)),\n",
        "    download = True)"
      ]
    },
    {
      "cell_type": "markdown",
      "metadata": {
        "id": "WJvmzTaHdnlp"
      },
      "source": [
        "# Dataloaders"
      ]
    },
    {
      "cell_type": "code",
      "execution_count": 53,
      "metadata": {
        "id": "lJxe_JHFdp5v"
      },
      "outputs": [],
      "source": [
        "batchSize = 64\n",
        "\n",
        "trainingDataloader = DataLoader(trainingData, batchSize, shuffle = True)\n",
        "validationDataloader = DataLoader(validationData, batchSize)\n",
        "testDataloader = DataLoader(testData, batchSize)"
      ]
    },
    {
      "cell_type": "markdown",
      "metadata": {
        "id": "10tVZxhv6guP"
      },
      "source": [
        "# Get device"
      ]
    },
    {
      "cell_type": "code",
      "execution_count": 54,
      "metadata": {
        "colab": {
          "base_uri": "https://localhost:8080/"
        },
        "id": "tOZbLdGEsfV2",
        "outputId": "f2f6f56c-12bb-47eb-e8bc-3e8c298ef4bc"
      },
      "outputs": [
        {
          "name": "stdout",
          "output_type": "stream",
          "text": [
            "Using cuda device\n"
          ]
        }
      ],
      "source": [
        "device = (\n",
        "    \"cuda\"\n",
        "    if torch.cuda.is_available()\n",
        "    else \"mps\"\n",
        "    if torch.backends.mps.is_available()\n",
        "    else \"cpu\"\n",
        ")\n",
        "print(f\"Using {device} device\")"
      ]
    },
    {
      "cell_type": "markdown",
      "metadata": {
        "id": "Vn49i-601HQm"
      },
      "source": [
        "# Create Aritecture"
      ]
    },
    {
      "cell_type": "code",
      "execution_count": 55,
      "metadata": {
        "id": "DEtkf2DSxjNd"
      },
      "outputs": [],
      "source": [
        "class NeuralNetwork(nn.Module):\n",
        "  def __init__(self, classAmount):\n",
        "    super(NeuralNetwork, self).__init__()\n",
        "    self.convStack =  nn.Sequential(\n",
        "        nn.Conv2d(in_channels = 3, out_channels = 32, kernel_size = 3, padding = 1),\n",
        "        nn.ReLU(),\n",
        "        nn.MaxPool2d(kernel_size = 2, stride = 2),\n",
        "        nn.Conv2d(in_channels = 32, out_channels = 64, kernel_size = 3, padding = 1),\n",
        "        nn.ReLU(),\n",
        "        nn.MaxPool2d(kernel_size = 2, stride = 2),\n",
        "        nn.Conv2d(in_channels = 64, out_channels = 128, kernel_size = 3, padding = 1),\n",
        "        nn.ReLU(),\n",
        "        nn.MaxPool2d(kernel_size = 2, stride = 2)\n",
        "    )\n",
        "    self.classifier = nn.Linear(128 * 28 * 28, classAmount)\n",
        "\n",
        "  def forward(self, x):\n",
        "    x = self.convStack(x)\n",
        "    x = torch.flatten(x, 1)\n",
        "    x = self.classifier(x)\n",
        "    return x\n",
        "\n",
        "model = NeuralNetwork(102).to(device)"
      ]
    },
    {
      "cell_type": "markdown",
      "metadata": {},
      "source": [
        "# Testing"
      ]
    },
    {
      "cell_type": "code",
      "execution_count": 56,
      "metadata": {},
      "outputs": [],
      "source": [
        "def testModel(dataloader, model, lossFunction):\n",
        "  print('Testing:')\n",
        "  model.eval()\n",
        "  total = 0\n",
        "  correct = 0\n",
        "  testLoss = 0\n",
        "  \n",
        "  with torch.no_grad():\n",
        "    for X, y in dataloader:\n",
        "      X, y = X.to(device), y.to(device)\n",
        "      pred = model(X)\n",
        "      total += y.size(0)\n",
        "      testLoss += lossFunction(pred, y).item()\n",
        "      correct += (pred.argmax(1) == y).type(torch.float).sum().item()\n",
        "  \n",
        "  testLoss = testLoss/total\n",
        "  correct = correct/total\n",
        "  print(f\"Accuracy: {(100*correct):>0.1f}%, Avg loss: {testLoss:>8f} \\n\")"
      ]
    },
    {
      "cell_type": "markdown",
      "metadata": {
        "id": "u1w_yEPkDiOo"
      },
      "source": [
        "# Training"
      ]
    },
    {
      "cell_type": "code",
      "execution_count": 57,
      "metadata": {
        "id": "s1wDws8xJOfQ"
      },
      "outputs": [],
      "source": [
        "earlyStopCount = 3\n",
        "def trainingModel(dataloader, model, lossFunction, optimizer, epochs):\n",
        "  bestValLoss = float('inf')\n",
        "  bestValAccuracy = 0\n",
        "  waitCounter = 0\n",
        "\n",
        "  for epoch in range(epochs):\n",
        "    model.train()\n",
        "    print(f'Epoch: {epoch+1}:')\n",
        "    print('Training:')\n",
        "    currentLoss = 0.0\n",
        "    correct = 0\n",
        "    total = 0\n",
        "    testLoss = 0\n",
        "    \n",
        "    for X, y in dataloader:\n",
        "      X, y = X.to(device), y.to(device)\n",
        "      optimizer.zero_grad()\n",
        "      \n",
        "      pred = model(X)\n",
        "      loss = lossFunction(pred, y)\n",
        "\n",
        "      loss.backward()\n",
        "      optimizer.step()\n",
        "\n",
        "      currentLoss += loss.item()\n",
        "\n",
        "      total += y.size(0)\n",
        "      testLoss += lossFunction(pred, y).item()\n",
        "      correct += (pred.argmax(1) == y).type(torch.float).sum().item()\n",
        "    \n",
        "    testLoss = testLoss/total\n",
        "    correct = correct/total\n",
        "\n",
        "    valLoss, valAccuracy = testModel(validationDataloader, model, lossFunction)\n",
        "    print(f'Accuracy {(100*correct):>0.1f}%, Loss: {currentLoss / len(dataloader):.5f}, Test Losss: {testLoss:.5f}')\n",
        "    \n",
        "    if valLoss < bestValLoss:\n",
        "      bestValLoss = valLoss\n",
        "      waitCounter = 0\n",
        "    else:\n",
        "      waitCounter = 1\n",
        "\n",
        "    if valAccuracy > bestValAccuracy:\n",
        "      bestValAccuracy = valAccuracy\n",
        "\n",
        "    if waitCounter >= earlyStopCount:\n",
        "       print(f'Validation has not improved for {earlyStopCount} epochs.')\n",
        "       break\n",
        "  print(f'Best Accuracy: {bestValAccuracy}. Best Loss: {bestValLoss}')"
      ]
    },
    {
      "cell_type": "code",
      "execution_count": 58,
      "metadata": {
        "colab": {
          "base_uri": "https://localhost:8080/",
          "height": 495
        },
        "id": "-8n5NAvIJUuO",
        "outputId": "50d3d6ee-ddaa-4bba-f3e4-d5f5448cb12b"
      },
      "outputs": [
        {
          "name": "stdout",
          "output_type": "stream",
          "text": [
            "Epoch: 1:\n",
            "Training:\n",
            "Testing:\n",
            "Accuracy: 3.5%, Avg loss: 0.069225 \n",
            "\n"
          ]
        },
        {
          "ename": "TypeError",
          "evalue": "cannot unpack non-iterable NoneType object",
          "output_type": "error",
          "traceback": [
            "\u001b[1;31m---------------------------------------------------------------------------\u001b[0m",
            "\u001b[1;31mTypeError\u001b[0m                                 Traceback (most recent call last)",
            "Cell \u001b[1;32mIn[58], line 8\u001b[0m\n\u001b[0;32m      5\u001b[0m lossFunction \u001b[38;5;241m=\u001b[39m nn\u001b[38;5;241m.\u001b[39mCrossEntropyLoss()\n\u001b[0;32m      6\u001b[0m optimizer \u001b[38;5;241m=\u001b[39m torch\u001b[38;5;241m.\u001b[39moptim\u001b[38;5;241m.\u001b[39mAdam(model\u001b[38;5;241m.\u001b[39mparameters(), lr\u001b[38;5;241m=\u001b[39mlearningRate)\n\u001b[1;32m----> 8\u001b[0m \u001b[43mtrainingModel\u001b[49m\u001b[43m(\u001b[49m\u001b[43mtrainingDataloader\u001b[49m\u001b[43m,\u001b[49m\u001b[43m \u001b[49m\u001b[43mmodel\u001b[49m\u001b[43m,\u001b[49m\u001b[43m \u001b[49m\u001b[43mlossFunction\u001b[49m\u001b[43m,\u001b[49m\u001b[43m \u001b[49m\u001b[43moptimizer\u001b[49m\u001b[43m,\u001b[49m\u001b[43m \u001b[49m\u001b[43mepochs\u001b[49m\u001b[43m)\u001b[49m\n\u001b[0;32m      9\u001b[0m testModel(testDataloader, model, lossFunction)\n\u001b[0;32m     10\u001b[0m \u001b[38;5;28mprint\u001b[39m(\u001b[38;5;124m\"\u001b[39m\u001b[38;5;124mFinished\u001b[39m\u001b[38;5;124m\"\u001b[39m)\n",
            "Cell \u001b[1;32mIn[57], line 35\u001b[0m, in \u001b[0;36mtrainingModel\u001b[1;34m(dataloader, model, lossFunction, optimizer, epochs)\u001b[0m\n\u001b[0;32m     32\u001b[0m testLoss \u001b[38;5;241m=\u001b[39m testLoss\u001b[38;5;241m/\u001b[39mtotal\n\u001b[0;32m     33\u001b[0m correct \u001b[38;5;241m=\u001b[39m correct\u001b[38;5;241m/\u001b[39mtotal\n\u001b[1;32m---> 35\u001b[0m valLoss, valAccuracy \u001b[38;5;241m=\u001b[39m testModel(validationDataloader, model, lossFunction)\n\u001b[0;32m     36\u001b[0m \u001b[38;5;28mprint\u001b[39m(\u001b[38;5;124mf\u001b[39m\u001b[38;5;124m'\u001b[39m\u001b[38;5;124mAccuracy \u001b[39m\u001b[38;5;132;01m{\u001b[39;00m(\u001b[38;5;241m100\u001b[39m\u001b[38;5;241m*\u001b[39mcorrect)\u001b[38;5;132;01m:\u001b[39;00m\u001b[38;5;124m>0.1f\u001b[39m\u001b[38;5;132;01m}\u001b[39;00m\u001b[38;5;124m%, Loss: \u001b[39m\u001b[38;5;132;01m{\u001b[39;00mcurrentLoss\u001b[38;5;250m \u001b[39m\u001b[38;5;241m/\u001b[39m\u001b[38;5;250m \u001b[39m\u001b[38;5;28mlen\u001b[39m(dataloader)\u001b[38;5;132;01m:\u001b[39;00m\u001b[38;5;124m.5f\u001b[39m\u001b[38;5;132;01m}\u001b[39;00m\u001b[38;5;124m, Test Losss: \u001b[39m\u001b[38;5;132;01m{\u001b[39;00mtestLoss\u001b[38;5;132;01m:\u001b[39;00m\u001b[38;5;124m.5f\u001b[39m\u001b[38;5;132;01m}\u001b[39;00m\u001b[38;5;124m'\u001b[39m)\n\u001b[0;32m     38\u001b[0m \u001b[38;5;28;01mif\u001b[39;00m valLoss \u001b[38;5;241m<\u001b[39m bestValLoss:\n",
            "\u001b[1;31mTypeError\u001b[0m: cannot unpack non-iterable NoneType object"
          ]
        }
      ],
      "source": [
        "learningRate = 0.001\n",
        "batchSize = 128\n",
        "epochs = 20\n",
        "\n",
        "lossFunction = nn.CrossEntropyLoss()\n",
        "optimizer = torch.optim.Adam(model.parameters(), lr=learningRate)\n",
        "\n",
        "trainingModel(trainingDataloader, model, lossFunction, optimizer, epochs)\n",
        "testModel(testDataloader, model, lossFunction)\n",
        "print(\"Finished\")"
      ]
    },
    {
      "cell_type": "markdown",
      "metadata": {},
      "source": [
        "Current Best: Accuracy: 25.2%, Avg Loss: 0.103483"
      ]
    },
    {
      "cell_type": "markdown",
      "metadata": {
        "id": "Z-NN5lbFJbrK"
      },
      "source": [
        "# Saving the model"
      ]
    },
    {
      "cell_type": "code",
      "execution_count": null,
      "metadata": {
        "id": "z6w9-UT1JYgG"
      },
      "outputs": [],
      "source": [
        "model = models.vgg16(weights='IMAGENET1K_V1')\n",
        "torch.save(model, 'model.pth')"
      ]
    },
    {
      "cell_type": "markdown",
      "metadata": {
        "id": "Ed-V6vOoJtPw"
      },
      "source": [
        "# Loading the model"
      ]
    },
    {
      "cell_type": "code",
      "execution_count": null,
      "metadata": {
        "id": "RUwsJFciJrm_"
      },
      "outputs": [],
      "source": [
        "# model = models.vgg16()\n",
        "# model.load_state_dict(torch.load('model.pth'))\n",
        "# model.eval()"
      ]
    }
  ],
  "metadata": {
    "colab": {
      "authorship_tag": "ABX9TyP5pQ4pqThi+Psu2q1m/Fu+",
      "include_colab_link": true,
      "provenance": []
    },
    "kernelspec": {
      "display_name": "Python 3",
      "name": "python3"
    },
    "language_info": {
      "codemirror_mode": {
        "name": "ipython",
        "version": 3
      },
      "file_extension": ".py",
      "mimetype": "text/x-python",
      "name": "python",
      "nbconvert_exporter": "python",
      "pygments_lexer": "ipython3",
      "version": "3.10.6"
    }
  },
  "nbformat": 4,
  "nbformat_minor": 0
}
