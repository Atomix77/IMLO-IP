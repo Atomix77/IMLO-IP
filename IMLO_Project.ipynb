{
  "cells": [
    {
      "cell_type": "markdown",
      "metadata": {
        "colab_type": "text",
        "id": "view-in-github"
      },
      "source": [
        "<a href=\"https://colab.research.google.com/github/Atomix77/IMLO-IP/blob/main/IMLO_Project.ipynb\" target=\"_parent\"><img src=\"https://colab.research.google.com/assets/colab-badge.svg\" alt=\"Open In Colab\"/></a>"
      ]
    },
    {
      "cell_type": "code",
      "execution_count": 1,
      "metadata": {},
      "outputs": [],
      "source": [
        "# import torch\n",
        "# torch.cuda.is_available()"
      ]
    },
    {
      "cell_type": "markdown",
      "metadata": {
        "id": "QNZzt3qRxj22"
      },
      "source": [
        "# Load Data\n",
        "\n"
      ]
    },
    {
      "cell_type": "code",
      "execution_count": 2,
      "metadata": {
        "id": "rPqbMcduQaTJ"
      },
      "outputs": [
        {
          "name": "stderr",
          "output_type": "stream",
          "text": [
            "c:\\Users\\tomha\\AppData\\Local\\Programs\\Python\\Python310\\lib\\site-packages\\tqdm\\auto.py:21: TqdmWarning: IProgress not found. Please update jupyter and ipywidgets. See https://ipywidgets.readthedocs.io/en/stable/user_install.html\n",
            "  from .autonotebook import tqdm as notebook_tqdm\n",
            "c:\\Users\\tomha\\AppData\\Local\\Programs\\Python\\Python310\\lib\\site-packages\\torchvision\\io\\image.py:13: UserWarning: Failed to load image Python extension: Could not find module 'C:\\Users\\tomha\\AppData\\Local\\Programs\\Python\\Python310\\Lib\\site-packages\\torchvision\\image.pyd' (or one of its dependencies). Try using the full path with constructor syntax.\n",
            "  warn(f\"Failed to load image Python extension: {e}\")\n"
          ]
        }
      ],
      "source": [
        "import torch\n",
        "from torch.utils.data import Dataset\n",
        "from torchvision import datasets\n",
        "from torchvision.transforms import ToTensor, Lambda\n",
        "from torchvision import transforms\n",
        "from torch.utils.data import DataLoader\n",
        "import torch.nn as nn\n",
        "import torchvision.models as models\n",
        "\n",
        "mean=[0.485, 0.456, 0.406]\n",
        "std=[0.229, 0.224, 0.225]\n",
        "\n",
        "trainingTransform = transforms.Compose([\n",
        "      transforms.Resize((224, 224)),\n",
        "      transforms.ToTensor(),\n",
        "      transforms.RandomHorizontalFlip(),\n",
        "      transforms.RandomRotation(20),\n",
        "      transforms.Normalize(torch.Tensor(mean), torch.Tensor(std)),])\n",
        "\n",
        "testTransform = transforms.Compose([\n",
        "        transforms.Resize((224, 224)),\n",
        "        transforms.ToTensor(),\n",
        "        transforms.Normalize(torch.Tensor(mean), torch.Tensor(std)),])\n",
        "\n",
        "trainingData = datasets.Flowers102(\n",
        "    root = \"./datasets\",\n",
        "    split = \"train\",\n",
        "    transform = trainingTransform,\n",
        "    # target_transform = Lambda(lambda y: torch.zeros(1000, dtype=torch.float).scatter_(0, torch.tensor(y), value=1)),\n",
        "    download = True)\n",
        "\n",
        "validationData = datasets.Flowers102(\n",
        "    root = \"./datasets\",\n",
        "    split = \"val\",\n",
        "    transform = testTransform,\n",
        "    # target_transform = Lambda(lambda y: torch.zeros(1000, dtype=torch.float).scatter_(0, torch.tensor(y), value=1)),\n",
        "    download = True)\n",
        "\n",
        "testData = datasets.Flowers102(\n",
        "    root = \"./datasets\",\n",
        "    split = \"test\",\n",
        "    transform = testTransform,\n",
        "    # target_transform = Lambda(lambda y: torch.zeros(1000, dtype=torch.float).scatter_(0, torch.tensor(y), value=1)),\n",
        "    download = True)"
      ]
    },
    {
      "cell_type": "markdown",
      "metadata": {
        "id": "WJvmzTaHdnlp"
      },
      "source": [
        "# Dataloaders"
      ]
    },
    {
      "cell_type": "code",
      "execution_count": 3,
      "metadata": {
        "id": "lJxe_JHFdp5v"
      },
      "outputs": [],
      "source": [
        "batchSize = 64\n",
        "\n",
        "trainingDataloader = DataLoader(trainingData, batchSize, shuffle = True)\n",
        "testDataloader = DataLoader(testData, batchSize)"
      ]
    },
    {
      "cell_type": "markdown",
      "metadata": {
        "id": "10tVZxhv6guP"
      },
      "source": [
        "# Get device"
      ]
    },
    {
      "cell_type": "code",
      "execution_count": 4,
      "metadata": {
        "colab": {
          "base_uri": "https://localhost:8080/"
        },
        "id": "tOZbLdGEsfV2",
        "outputId": "f2f6f56c-12bb-47eb-e8bc-3e8c298ef4bc"
      },
      "outputs": [
        {
          "name": "stdout",
          "output_type": "stream",
          "text": [
            "Using cpu device\n"
          ]
        }
      ],
      "source": [
        "device = (\n",
        "    \"cuda\"\n",
        "    if torch.cuda.is_available()\n",
        "    else \"mps\"\n",
        "    if torch.backends.mps.is_available()\n",
        "    else \"cpu\"\n",
        ")\n",
        "print(f\"Using {device} device\")"
      ]
    },
    {
      "cell_type": "markdown",
      "metadata": {
        "id": "Vn49i-601HQm"
      },
      "source": [
        "# Create Aritecture"
      ]
    },
    {
      "cell_type": "code",
      "execution_count": 5,
      "metadata": {
        "id": "DEtkf2DSxjNd"
      },
      "outputs": [],
      "source": [
        "class NeuralNetwork(nn.Module):\n",
        "  def __init__(self, classAmount):\n",
        "    super(NeuralNetwork, self).__init__()\n",
        "    self.convStack =  nn.Sequential(\n",
        "        nn.Conv2d(in_channels = 3, out_channels = 32, kernel_size = 3, padding = 1),\n",
        "        nn.ReLU(),\n",
        "        nn.MaxPool2d(kernel_size = 2, stride = 2),\n",
        "        nn.Conv2d(in_channels = 32, out_channels = 64, kernel_size = 3, padding = 1),\n",
        "        nn.ReLU(),\n",
        "        nn.MaxPool2d(kernel_size = 2, stride = 2),\n",
        "        nn.Conv2d(in_channels = 64, out_channels = 128, kernel_size = 3, padding = 1),\n",
        "        nn.ReLU(),\n",
        "        nn.MaxPool2d(kernel_size = 2, stride = 2)\n",
        "    )\n",
        "    self.classifier = nn.Linear(128 * 28 * 28, classAmount)\n",
        "\n",
        "  def forward(self, x):\n",
        "    x = self.convStack(x)\n",
        "    x = torch.flatten(x, 1)\n",
        "    x = self.classifier(x)\n",
        "    return x\n",
        "\n",
        "model = NeuralNetwork(102).to(device)"
      ]
    },
    {
      "cell_type": "markdown",
      "metadata": {},
      "source": [
        "# Testing"
      ]
    },
    {
      "cell_type": "code",
      "execution_count": 6,
      "metadata": {
        "id": "uMAaXK3bENaq"
      },
      "outputs": [],
      "source": [
        "def testModel(dataloader, model, lossFunction):\n",
        "  print('Testing')\n",
        "  model.eval()\n",
        "  total = 0\n",
        "  correct = 0\n",
        "  testLoss = 0\n",
        "  \n",
        "  with torch.no_grad():\n",
        "    for X, y in dataloader:\n",
        "      pred = model(X)\n",
        "      total += y.size(0)\n",
        "      testLoss += lossFunction(pred, y).item()\n",
        "      correct += (pred.argmax(1) == y).type(torch.float).sum().item()\n",
        "  \n",
        "  testLoss = testLoss/total\n",
        "  correct = correct/total\n",
        "  print(f\"Accuracy: {(100*correct):>0.1f}%, Avg loss: {testLoss:>8f} \\n\")"
      ]
    },
    {
      "cell_type": "markdown",
      "metadata": {
        "id": "u1w_yEPkDiOo"
      },
      "source": [
        "# Training"
      ]
    },
    {
      "cell_type": "code",
      "execution_count": 7,
      "metadata": {
        "id": "s1wDws8xJOfQ"
      },
      "outputs": [],
      "source": [
        "def trainingModel(dataloader, model, lossFunction, optimizer, epochs):\n",
        "  model.train()\n",
        "  for epoch in range(epochs):\n",
        "    print(f'Epoch: {epoch+1}/{epochs}:')\n",
        "    print('Training Model')\n",
        "    currentLoss = 0.0\n",
        "    correct = 0\n",
        "    total = 0\n",
        "    testLoss = 0\n",
        "    \n",
        "    for X, y in dataloader:\n",
        "      optimizer.zero_grad()\n",
        "      \n",
        "      pred = model(X)\n",
        "      loss = lossFunction(pred, y)\n",
        "\n",
        "      loss.backward()\n",
        "      optimizer.step()\n",
        "\n",
        "      currentLoss += loss.item()\n",
        "\n",
        "      total += y.size(0)\n",
        "      testLoss += lossFunction(pred, y).item()\n",
        "      correct += (pred.argmax(1) == y).type(torch.float).sum().item()\n",
        "    \n",
        "    testLoss = testLoss/total\n",
        "    correct = correct/total\n",
        "    print(f'Accuracy {(100*correct):>0.1f}%, Loss: {currentLoss / len(dataloader):.5f}')\n",
        "    testModel(testDataloader, model, lossFunction)"
      ]
    },
    {
      "cell_type": "code",
      "execution_count": 8,
      "metadata": {
        "colab": {
          "base_uri": "https://localhost:8080/",
          "height": 495
        },
        "id": "-8n5NAvIJUuO",
        "outputId": "50d3d6ee-ddaa-4bba-f3e4-d5f5448cb12b"
      },
      "outputs": [
        {
          "name": "stdout",
          "output_type": "stream",
          "text": [
            "Epoch: 1/20:\n",
            "Training Model\n",
            "Accuracy 1.0%, Loss: 5.74630\n",
            "Testing\n",
            "Accuracy: 3.0%, Avg loss: 0.069219 \n",
            "\n",
            "Epoch: 2/20:\n",
            "Training Model\n",
            "Accuracy 9.8%, Loss: 3.97329\n",
            "Testing\n",
            "Accuracy: 11.2%, Avg loss: 0.060064 \n",
            "\n",
            "Epoch: 3/20:\n",
            "Training Model\n",
            "Accuracy 22.7%, Loss: 3.19975\n",
            "Testing\n",
            "Accuracy: 15.7%, Avg loss: 0.060507 \n",
            "\n",
            "Epoch: 4/20:\n",
            "Training Model\n",
            "Accuracy 36.0%, Loss: 2.60966\n",
            "Testing\n",
            "Accuracy: 19.9%, Avg loss: 0.060589 \n",
            "\n",
            "Epoch: 5/20:\n",
            "Training Model\n",
            "Accuracy 46.7%, Loss: 2.13329\n",
            "Testing\n",
            "Accuracy: 18.0%, Avg loss: 0.065954 \n",
            "\n",
            "Epoch: 6/20:\n",
            "Training Model\n",
            "Accuracy 49.6%, Loss: 1.94083\n",
            "Testing\n",
            "Accuracy: 19.4%, Avg loss: 0.064733 \n",
            "\n",
            "Epoch: 7/20:\n",
            "Training Model\n",
            "Accuracy 57.0%, Loss: 1.68075\n",
            "Testing\n",
            "Accuracy: 19.3%, Avg loss: 0.071622 \n",
            "\n",
            "Epoch: 8/20:\n",
            "Training Model\n",
            "Accuracy 61.4%, Loss: 1.47007\n",
            "Testing\n",
            "Accuracy: 20.2%, Avg loss: 0.076843 \n",
            "\n",
            "Epoch: 9/20:\n",
            "Training Model\n",
            "Accuracy 67.2%, Loss: 1.24704\n",
            "Testing\n",
            "Accuracy: 21.1%, Avg loss: 0.080798 \n",
            "\n",
            "Epoch: 10/20:\n",
            "Training Model\n",
            "Accuracy 67.8%, Loss: 1.17811\n",
            "Testing\n",
            "Accuracy: 22.0%, Avg loss: 0.081107 \n",
            "\n",
            "Epoch: 11/20:\n",
            "Training Model\n",
            "Accuracy 74.9%, Loss: 0.95526\n",
            "Testing\n",
            "Accuracy: 23.6%, Avg loss: 0.084418 \n",
            "\n",
            "Epoch: 12/20:\n",
            "Training Model\n",
            "Accuracy 77.8%, Loss: 0.79371\n",
            "Testing\n",
            "Accuracy: 20.6%, Avg loss: 0.100692 \n",
            "\n",
            "Epoch: 13/20:\n",
            "Training Model\n",
            "Accuracy 79.9%, Loss: 0.74753\n",
            "Testing\n",
            "Accuracy: 22.3%, Avg loss: 0.097416 \n",
            "\n",
            "Epoch: 14/20:\n",
            "Training Model\n",
            "Accuracy 83.3%, Loss: 0.63859\n",
            "Testing\n",
            "Accuracy: 21.0%, Avg loss: 0.103524 \n",
            "\n",
            "Epoch: 15/20:\n",
            "Training Model\n",
            "Accuracy 83.4%, Loss: 0.61558\n",
            "Testing\n",
            "Accuracy: 22.1%, Avg loss: 0.102105 \n",
            "\n",
            "Epoch: 16/20:\n",
            "Training Model\n",
            "Accuracy 84.9%, Loss: 0.53300\n",
            "Testing\n",
            "Accuracy: 22.3%, Avg loss: 0.106894 \n",
            "\n",
            "Epoch: 17/20:\n",
            "Training Model\n",
            "Accuracy 88.4%, Loss: 0.41497\n",
            "Testing\n",
            "Accuracy: 22.5%, Avg loss: 0.111587 \n",
            "\n",
            "Epoch: 18/20:\n",
            "Training Model\n",
            "Accuracy 89.2%, Loss: 0.40717\n",
            "Testing\n",
            "Accuracy: 21.5%, Avg loss: 0.116609 \n",
            "\n",
            "Epoch: 19/20:\n",
            "Training Model\n",
            "Accuracy 88.7%, Loss: 0.42442\n",
            "Testing\n",
            "Accuracy: 22.0%, Avg loss: 0.116903 \n",
            "\n",
            "Epoch: 20/20:\n",
            "Training Model\n",
            "Accuracy 90.4%, Loss: 0.37010\n",
            "Testing\n",
            "Accuracy: 22.3%, Avg loss: 0.118504 \n",
            "\n",
            "Finished\n"
          ]
        }
      ],
      "source": [
        "learningRate = 0.001\n",
        "batchSize = 128\n",
        "epochs = 20\n",
        "\n",
        "lossFunction = nn.CrossEntropyLoss()\n",
        "optimizer = torch.optim.Adam(model.parameters(), lr=learningRate)\n",
        "\n",
        "trainingModel(trainingDataloader, model, lossFunction, optimizer, epochs)\n",
        "print(\"Finished\")"
      ]
    },
    {
      "cell_type": "markdown",
      "metadata": {},
      "source": [
        "Current Best: Accuracy: 22.6%, Avg Loss: 0.110180"
      ]
    },
    {
      "cell_type": "markdown",
      "metadata": {
        "id": "Z-NN5lbFJbrK"
      },
      "source": [
        "# Saving the model"
      ]
    },
    {
      "cell_type": "code",
      "execution_count": 9,
      "metadata": {
        "id": "z6w9-UT1JYgG"
      },
      "outputs": [],
      "source": [
        "model = models.vgg16(weights='IMAGENET1K_V1')\n",
        "torch.save(model, 'model.pth')"
      ]
    },
    {
      "cell_type": "markdown",
      "metadata": {
        "id": "Ed-V6vOoJtPw"
      },
      "source": [
        "# Loading the model"
      ]
    },
    {
      "cell_type": "code",
      "execution_count": 10,
      "metadata": {
        "id": "RUwsJFciJrm_"
      },
      "outputs": [
        {
          "ename": "TypeError",
          "evalue": "Expected state_dict to be dict-like, got <class 'torchvision.models.vgg.VGG'>.",
          "output_type": "error",
          "traceback": [
            "\u001b[1;31m---------------------------------------------------------------------------\u001b[0m",
            "\u001b[1;31mTypeError\u001b[0m                                 Traceback (most recent call last)",
            "Cell \u001b[1;32mIn[10], line 2\u001b[0m\n\u001b[0;32m      1\u001b[0m model \u001b[38;5;241m=\u001b[39m models\u001b[38;5;241m.\u001b[39mvgg16()\n\u001b[1;32m----> 2\u001b[0m \u001b[43mmodel\u001b[49m\u001b[38;5;241;43m.\u001b[39;49m\u001b[43mload_state_dict\u001b[49m\u001b[43m(\u001b[49m\u001b[43mtorch\u001b[49m\u001b[38;5;241;43m.\u001b[39;49m\u001b[43mload\u001b[49m\u001b[43m(\u001b[49m\u001b[38;5;124;43m'\u001b[39;49m\u001b[38;5;124;43mmodel.pth\u001b[39;49m\u001b[38;5;124;43m'\u001b[39;49m\u001b[43m)\u001b[49m\u001b[43m)\u001b[49m\n\u001b[0;32m      3\u001b[0m model\u001b[38;5;241m.\u001b[39meval()\n",
            "File \u001b[1;32mc:\\Users\\tomha\\AppData\\Local\\Programs\\Python\\Python310\\lib\\site-packages\\torch\\nn\\modules\\module.py:1620\u001b[0m, in \u001b[0;36mModule.load_state_dict\u001b[1;34m(self, state_dict, strict)\u001b[0m\n\u001b[0;32m   1597\u001b[0m \u001b[38;5;250m\u001b[39m\u001b[38;5;124mr\u001b[39m\u001b[38;5;124;03m\"\"\"Copies parameters and buffers from :attr:`state_dict` into\u001b[39;00m\n\u001b[0;32m   1598\u001b[0m \u001b[38;5;124;03mthis module and its descendants. If :attr:`strict` is ``True``, then\u001b[39;00m\n\u001b[0;32m   1599\u001b[0m \u001b[38;5;124;03mthe keys of :attr:`state_dict` must exactly match the keys returned\u001b[39;00m\n\u001b[1;32m   (...)\u001b[0m\n\u001b[0;32m   1617\u001b[0m \u001b[38;5;124;03m    ``RuntimeError``.\u001b[39;00m\n\u001b[0;32m   1618\u001b[0m \u001b[38;5;124;03m\"\"\"\u001b[39;00m\n\u001b[0;32m   1619\u001b[0m \u001b[38;5;28;01mif\u001b[39;00m \u001b[38;5;129;01mnot\u001b[39;00m \u001b[38;5;28misinstance\u001b[39m(state_dict, Mapping):\n\u001b[1;32m-> 1620\u001b[0m     \u001b[38;5;28;01mraise\u001b[39;00m \u001b[38;5;167;01mTypeError\u001b[39;00m(\u001b[38;5;124m\"\u001b[39m\u001b[38;5;124mExpected state_dict to be dict-like, got \u001b[39m\u001b[38;5;132;01m{}\u001b[39;00m\u001b[38;5;124m.\u001b[39m\u001b[38;5;124m\"\u001b[39m\u001b[38;5;241m.\u001b[39mformat(\u001b[38;5;28mtype\u001b[39m(state_dict)))\n\u001b[0;32m   1622\u001b[0m missing_keys: List[\u001b[38;5;28mstr\u001b[39m] \u001b[38;5;241m=\u001b[39m []\n\u001b[0;32m   1623\u001b[0m unexpected_keys: List[\u001b[38;5;28mstr\u001b[39m] \u001b[38;5;241m=\u001b[39m []\n",
            "\u001b[1;31mTypeError\u001b[0m: Expected state_dict to be dict-like, got <class 'torchvision.models.vgg.VGG'>."
          ]
        }
      ],
      "source": [
        "model = models.vgg16()\n",
        "model.load_state_dict(torch.load('model.pth'))\n",
        "model.eval()"
      ]
    }
  ],
  "metadata": {
    "colab": {
      "authorship_tag": "ABX9TyP5pQ4pqThi+Psu2q1m/Fu+",
      "include_colab_link": true,
      "provenance": []
    },
    "kernelspec": {
      "display_name": "Python 3",
      "name": "python3"
    },
    "language_info": {
      "codemirror_mode": {
        "name": "ipython",
        "version": 3
      },
      "file_extension": ".py",
      "mimetype": "text/x-python",
      "name": "python",
      "nbconvert_exporter": "python",
      "pygments_lexer": "ipython3",
      "version": "3.10.6"
    }
  },
  "nbformat": 4,
  "nbformat_minor": 0
}
